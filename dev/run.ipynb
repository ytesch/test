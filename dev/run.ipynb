{
  "cells": [
    {
      "cell_type": "code",
      "execution_count": 11,
      "metadata": {
        "colab": {
          "base_uri": "https://localhost:8080/"
        },
        "id": "p2PuVULMi78B",
        "outputId": "416e6bfa-4401-4f6e-ea66-227aae910be9"
      },
      "outputs": [
        {
          "output_type": "stream",
          "name": "stdout",
          "text": [
            "Drive already mounted at /content/drive; to attempt to forcibly remount, call drive.mount(\"/content/drive\", force_remount=True).\n",
            "[]\n"
          ]
        }
      ],
      "source": [
        "from google.colab import drive\n",
        "drive.mount('/content/drive')\n",
        "\n",
        "\n",
        "import os\n",
        "import json\n",
        "directory_path = '/content/drive/MyDrive/stable-diffusion-webui/nightly'\n",
        "print(os.listdir(directory_path))\n",
        "\n",
        "file_list = os.listdir(directory_path)\n",
        "\n",
        "for filename in file_list:\n",
        "    if filename.endswith('.ipynb'):\n",
        "        new_filename = filename.replace('.ipynb', '_run.ipynb')\n",
        "        notebook_content = {\n",
        "    \"cells\": [\n",
        "        {\n",
        "            \"attachments\": {},\n",
        "            \"cell_type\": \"markdown\",\n",
        "            \"metadata\": {\"id\": \"view-in-github\"},\n",
        "            \"source\": [\n",
        "                f\"[![Open In Colab](https://colab.research.google.com/assets/colab-badge.svg)](https://colab.research.google.com/github/camenduru/stable-diffusion-webui-colab/blob/main/nightly/{new_filename})\"\n",
        "            ],\n",
        "        },\n",
        "        {\n",
        "            \"cell_type\": \"code\",\n",
        "            \"execution_count\": None,\n",
        "            \"metadata\": {},\n",
        "            \"outputs\": [],\n",
        "            \"source\": [\n",
        "                \"%cd /content\\n\",\n",
        "                \"import urllib, requests\\n\",\n",
        "                \"from notebook import notebookapp\\n\",\n",
        "                \"name = requests.get(f\\\"{list(notebookapp.list_running_servers())[0]['url']}api/sessions\\\").json()[0][\\\"name\\\"].replace(\\\"_run\\\", \\\"\\\")\\n\",\n",
        "                \"url = '/'.join(urllib.parse.unquote(requests.get(f\\\"{list(notebookapp.list_running_servers())[0]['url']}api/sessions\\\").json()[0][\\\"path\\\"].split(\\\"=\\\", 1)[1]).split(\\\"/\\\")).replace(\\\"/blob/\\\", \\\"/\\\").replace(\\\"github.com\\\", \\\"raw.githubusercontent.com\\\").replace(\\\"_run\\\", \\\"\\\")\\n\",\n",
        "                \"!wget {url} -O {name}\\n\",\n",
        "                \"%run {name}\"\n",
        "            ],\n",
        "        },\n",
        "    ],\n",
        "    \"metadata\": {\n",
        "        \"accelerator\": \"GPU\",\n",
        "        \"colab\": {\n",
        "            \"collapsed_sections\": [],\n",
        "            \"private_outputs\": True,\n",
        "            \"provenance\": [],\n",
        "        },\n",
        "        \"gpuClass\": \"standard\",\n",
        "        \"kernelspec\": {\n",
        "            \"display_name\": \"Python 3\",\n",
        "            \"language\": \"python\",\n",
        "            \"name\": \"python3\",\n",
        "        },\n",
        "        \"language_info\": {\n",
        "            \"name\": \"python\",\n",
        "            \"version\": \"3.10.8\",\n",
        "        },\n",
        "    },\n",
        "    \"nbformat\": 4,\n",
        "    \"nbformat_minor\": 0,\n",
        "}\n",
        "\n",
        "        with open(os.path.join(directory_path, new_filename), 'w') as notebook_file:\n",
        "            json.dump(notebook_content, notebook_file, indent=2)"
      ]
    },
    {
      "cell_type": "code",
      "source": [],
      "metadata": {
        "id": "3NorC7X2kwZQ"
      },
      "execution_count": 11,
      "outputs": []
    }
  ],
  "metadata": {
    "kernelspec": {
      "display_name": "Python 3",
      "language": "python",
      "name": "python3"
    },
    "language_info": {
      "codemirror_mode": {
        "name": "ipython",
        "version": 3
      },
      "file_extension": ".py",
      "mimetype": "text/x-python",
      "name": "python",
      "nbconvert_exporter": "python",
      "pygments_lexer": "ipython3",
      "version": "3.11.5"
    },
    "orig_nbformat": 4,
    "colab": {
      "provenance": []
    }
  },
  "nbformat": 4,
  "nbformat_minor": 0
}