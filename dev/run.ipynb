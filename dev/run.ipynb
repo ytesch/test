{
  "cells": [
    {
      "cell_type": "code",
      "execution_count": 7,
      "metadata": {
        "id": "p2PuVULMi78B",
        "outputId": "87ee9cd9-339e-40ad-c175-3b65da6f8ceb",
        "colab": {
          "base_uri": "https://localhost:8080/",
          "height": 211
        }
      },
      "outputs": [
        {
          "output_type": "error",
          "ename": "FileNotFoundError",
          "evalue": "[Errno 2] No such file or directory: '/content/drive/MyDrive/stable-diffusion-webui/nightly'",
          "traceback": [
            "\u001b[0;31m---------------------------------------------------------------------------\u001b[0m",
            "\u001b[0;31mFileNotFoundError\u001b[0m                         Traceback (most recent call last)",
            "\u001b[0;32m<ipython-input-7-778e6ed371da>\u001b[0m in \u001b[0;36m<cell line: 0>\u001b[0;34m()\u001b[0m\n\u001b[1;32m      2\u001b[0m \u001b[0;32mimport\u001b[0m \u001b[0mjson\u001b[0m\u001b[0;34m\u001b[0m\u001b[0;34m\u001b[0m\u001b[0m\n\u001b[1;32m      3\u001b[0m \u001b[0mdirectory_path\u001b[0m \u001b[0;34m=\u001b[0m \u001b[0;34m'/content/drive/MyDrive/stable-diffusion-webui/nightly'\u001b[0m\u001b[0;34m\u001b[0m\u001b[0;34m\u001b[0m\u001b[0m\n\u001b[0;32m----> 4\u001b[0;31m \u001b[0mprint\u001b[0m\u001b[0;34m(\u001b[0m\u001b[0mos\u001b[0m\u001b[0;34m.\u001b[0m\u001b[0mlistdir\u001b[0m\u001b[0;34m(\u001b[0m\u001b[0mdirectory_path\u001b[0m\u001b[0;34m)\u001b[0m\u001b[0;34m)\u001b[0m\u001b[0;34m\u001b[0m\u001b[0;34m\u001b[0m\u001b[0m\n\u001b[0m\u001b[1;32m      5\u001b[0m \u001b[0;34m\u001b[0m\u001b[0m\n\u001b[1;32m      6\u001b[0m \u001b[0mfile_list\u001b[0m \u001b[0;34m=\u001b[0m \u001b[0mos\u001b[0m\u001b[0;34m.\u001b[0m\u001b[0mlistdir\u001b[0m\u001b[0;34m(\u001b[0m\u001b[0mdirectory_path\u001b[0m\u001b[0;34m)\u001b[0m\u001b[0;34m\u001b[0m\u001b[0;34m\u001b[0m\u001b[0m\n",
            "\u001b[0;31mFileNotFoundError\u001b[0m: [Errno 2] No such file or directory: '/content/drive/MyDrive/stable-diffusion-webui/nightly'"
          ]
        }
      ],
      "source": [
        "import os\n",
        "import json\n",
        "directory_path = '/content/drive/MyDrive/stable-diffusion-webui/nightly'\n",
        "print(os.listdir(directory_path))\n",
        "\n",
        "file_list = os.listdir(directory_path)\n",
        "\n",
        "for filename in file_list:\n",
        "    if filename.endswith('.ipynb'):\n",
        "        new_filename = filename.replace('.ipynb', '_run.ipynb')\n",
        "        notebook_content = {\n",
        "    \"cells\": [\n",
        "        {\n",
        "            \"attachments\": {},\n",
        "            \"cell_type\": \"markdown\",\n",
        "            \"metadata\": {\"id\": \"view-in-github\"},\n",
        "            \"source\": [\n",
        "                f\"[![Open In Colab](https://colab.research.google.com/assets/colab-badge.svg)](https://colab.research.google.com/github/camenduru/stable-diffusion-webui-colab/blob/main/nightly/{new_filename})\"\n",
        "            ],\n",
        "        },\n",
        "        {\n",
        "            \"cell_type\": \"code\",\n",
        "            \"execution_count\": None,\n",
        "            \"metadata\": {},\n",
        "            \"outputs\": [],\n",
        "            \"source\": [\n",
        "                \"%cd /content\\n\",\n",
        "                \"import urllib, requests\\n\",\n",
        "                \"from notebook import notebookapp\\n\",\n",
        "                \"name = requests.get(f\\\"{list(notebookapp.list_running_servers())[0]['url']}api/sessions\\\").json()[0][\\\"name\\\"].replace(\\\"_run\\\", \\\"\\\")\\n\",\n",
        "                \"url = '/'.join(urllib.parse.unquote(requests.get(f\\\"{list(notebookapp.list_running_servers())[0]['url']}api/sessions\\\").json()[0][\\\"path\\\"].split(\\\"=\\\", 1)[1]).split(\\\"/\\\")).replace(\\\"/blob/\\\", \\\"/\\\").replace(\\\"github.com\\\", \\\"raw.githubusercontent.com\\\").replace(\\\"_run\\\", \\\"\\\")\\n\",\n",
        "                \"!wget {url} -O {name}\\n\",\n",
        "                \"%run {name}\"\n",
        "            ],\n",
        "        },\n",
        "    ],\n",
        "    \"metadata\": {\n",
        "        \"accelerator\": \"GPU\",\n",
        "        \"colab\": {\n",
        "            \"collapsed_sections\": [],\n",
        "            \"private_outputs\": True,\n",
        "            \"provenance\": [],\n",
        "        },\n",
        "        \"gpuClass\": \"standard\",\n",
        "        \"kernelspec\": {\n",
        "            \"display_name\": \"Python 3\",\n",
        "            \"language\": \"python\",\n",
        "            \"name\": \"python3\",\n",
        "        },\n",
        "        \"language_info\": {\n",
        "            \"name\": \"python\",\n",
        "            \"version\": \"3.10.8\",\n",
        "        },\n",
        "    },\n",
        "    \"nbformat\": 4,\n",
        "    \"nbformat_minor\": 0,\n",
        "}\n",
        "\n",
        "        with open(os.path.join(directory_path, new_filename), 'w') as notebook_file:\n",
        "            json.dump(notebook_content, notebook_file, indent=2)"
      ]
    }
  ],
  "metadata": {
    "kernelspec": {
      "display_name": "Python 3",
      "language": "python",
      "name": "python3"
    },
    "language_info": {
      "codemirror_mode": {
        "name": "ipython",
        "version": 3
      },
      "file_extension": ".py",
      "mimetype": "text/x-python",
      "name": "python",
      "nbconvert_exporter": "python",
      "pygments_lexer": "ipython3",
      "version": "3.11.5"
    },
    "orig_nbformat": 4,
    "colab": {
      "provenance": []
    }
  },
  "nbformat": 4,
  "nbformat_minor": 0
}